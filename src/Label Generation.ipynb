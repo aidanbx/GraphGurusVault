{
 "cells": [
  {
   "cell_type": "code",
   "execution_count": 2,
   "metadata": {},
   "outputs": [],
   "source": [
    "import numpy as np\n",
    "import pandas as pd\n",
    "import create_embeddings\n",
    "from nltk.tokenize import word_tokenize\n",
    "from nltk.tokenize import RegexpTokenizer\n",
    "from tqdm import tqdm\n",
    "import json\n",
    "import openai\n",
    "import time"
   ]
  },
  {
   "cell_type": "code",
   "execution_count": 5,
   "metadata": {},
   "outputs": [],
   "source": [
    "df = pd.read_csv(r\"C:\\Users\\kaanan\\Desktop\\GraphGurusVault\\src\\reduced_embeddings_2d.csv\")\n",
    "f = open(r\"C:\\Users\\kaanan\\Desktop\\GraphGurusVault\\src\\1-1000.txt\")\n",
    "common_words = set([x.strip() for x in f.readlines()])\n",
    "f.close()"
   ]
  },
  {
   "cell_type": "code",
   "execution_count": 6,
   "metadata": {},
   "outputs": [],
   "source": [
    "all_words = set()\n",
    "tokenizer = RegexpTokenizer(r'\\w+')\n",
    "for x in df[\"filename\"]:\n",
    "    word = x.split(\".\")[0]\n",
    "    title = tokenizer.tokenize(word)\n",
    "    for word in title:\n",
    "        if word not in common_words:\n",
    "            all_words.add(word)"
   ]
  },
  {
   "cell_type": "code",
   "execution_count": 11,
   "metadata": {},
   "outputs": [
    {
     "name": "stderr",
     "output_type": "stream",
     "text": [
      "100%|██████████| 1846/1846 [07:45<00:00,  3.97it/s]\n"
     ]
    }
   ],
   "source": [
    "embeddings = {}\n",
    "for word in tqdm(all_words):\n",
    "    while True:\n",
    "        try:\n",
    "            embeddings[word] = create_embeddings.createEmbedding(word)\n",
    "            break\n",
    "        except:\n",
    "            print(\"Too many calls, waiting 5 seconds\")\n",
    "            time.sleep(5)\n",
    "\n",
    "with open('./individual_embeddings.json', 'w') as fp:\n",
    "        json.dump(embeddings, fp)\n"
   ]
  },
  {
   "cell_type": "code",
   "execution_count": null,
   "metadata": {},
   "outputs": [],
   "source": []
  }
 ],
 "metadata": {
  "kernelspec": {
   "display_name": "Python 3",
   "language": "python",
   "name": "python3"
  },
  "language_info": {
   "codemirror_mode": {
    "name": "ipython",
    "version": 3
   },
   "file_extension": ".py",
   "mimetype": "text/x-python",
   "name": "python",
   "nbconvert_exporter": "python",
   "pygments_lexer": "ipython3",
   "version": "3.10.5"
  },
  "orig_nbformat": 4
 },
 "nbformat": 4,
 "nbformat_minor": 2
}
